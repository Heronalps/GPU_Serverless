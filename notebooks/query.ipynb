{
 "cells": [
  {
   "cell_type": "code",
   "execution_count": 1,
   "metadata": {},
   "outputs": [],
   "source": [
    "import csv\n",
    "import requests\n",
    "import sys"
   ]
  },
  {
   "cell_type": "code",
   "execution_count": 2,
   "metadata": {},
   "outputs": [],
   "source": [
    "address = \"https://prometheus.nautilus.optiputer.net\"\n",
    "query = 'kube_node_status_allocatable{resource=\"nvidia_com_gpu\", node=\"prp-gpu-2.t2.ucsd.edu\"}[5m]'"
   ]
  },
  {
   "cell_type": "code",
   "execution_count": 4,
   "metadata": {},
   "outputs": [],
   "source": [
    "response = requests.get('{0}/api/v1/query'.format(address), params={'query': query})\n",
    "results = response.json()['data']['result']"
   ]
  },
  {
   "cell_type": "code",
   "execution_count": 13,
   "metadata": {},
   "outputs": [
    {
     "name": "stdout",
     "output_type": "stream",
     "text": [
      "1555957764.9191208\n"
     ]
    }
   ],
   "source": [
    "import time\n",
    "print(time.time())"
   ]
  },
  {
   "cell_type": "code",
   "execution_count": 12,
   "metadata": {},
   "outputs": [
    {
     "data": {
      "text/plain": [
       "[{'metric': {'__name__': 'kube_node_status_allocatable',\n",
       "   'endpoint': 'https-main',\n",
       "   'instance': '10.244.111.148:8443',\n",
       "   'job': 'kube-state-metrics',\n",
       "   'namespace': 'monitoring',\n",
       "   'node': 'prp-gpu-2.t2.ucsd.edu',\n",
       "   'pod': 'kube-state-metrics-7574c6c55-jcw2g',\n",
       "   'resource': 'nvidia_com_gpu',\n",
       "   'service': 'kube-state-metrics',\n",
       "   'unit': 'integer'},\n",
       "  'values': [[1555956755.694, '8'],\n",
       "   [1555956785.694, '8'],\n",
       "   [1555956815.694, '8'],\n",
       "   [1555956845.694, '8'],\n",
       "   [1555956875.694, '8'],\n",
       "   [1555956905.694, '8'],\n",
       "   [1555956935.694, '8'],\n",
       "   [1555956965.694, '8'],\n",
       "   [1555956995.694, '8'],\n",
       "   [1555957025.694, '8']]},\n",
       " {'metric': {'__name__': 'kube_node_status_allocatable',\n",
       "   'endpoint': 'https-main',\n",
       "   'instance': '10.244.221.97:8443',\n",
       "   'job': 'kube-state-metrics',\n",
       "   'namespace': 'monitoring',\n",
       "   'node': 'prp-gpu-2.t2.ucsd.edu',\n",
       "   'pod': 'kube-state-metrics-6cdccb7899-dzhrk',\n",
       "   'resource': 'nvidia_com_gpu',\n",
       "   'service': 'kube-state-metrics',\n",
       "   'unit': 'integer'},\n",
       "  'values': [[1555956755.694, '8'],\n",
       "   [1555956757.678, '8'],\n",
       "   [1555956785.694, '8'],\n",
       "   [1555956787.678, '8'],\n",
       "   [1555956815.694, '8'],\n",
       "   [1555956817.678, '8'],\n",
       "   [1555956845.694, '8'],\n",
       "   [1555956847.678, '8'],\n",
       "   [1555956875.694, '8'],\n",
       "   [1555956877.678, '8'],\n",
       "   [1555956905.694, '8'],\n",
       "   [1555956907.678, '8'],\n",
       "   [1555956935.694, '8'],\n",
       "   [1555956937.678, '8'],\n",
       "   [1555956965.694, '8'],\n",
       "   [1555956967.678, '8'],\n",
       "   [1555956995.694, '8'],\n",
       "   [1555956997.678, '8'],\n",
       "   [1555957025.694, '8'],\n",
       "   [1555957027.678, '8']]},\n",
       " {'metric': {'__name__': 'kube_node_status_allocatable',\n",
       "   'endpoint': 'https-main',\n",
       "   'instance': '10.244.27.161:8443',\n",
       "   'job': 'kube-state-metrics',\n",
       "   'namespace': 'monitoring',\n",
       "   'node': 'prp-gpu-2.t2.ucsd.edu',\n",
       "   'pod': 'kube-state-metrics-84d8c65699-krbqc',\n",
       "   'resource': 'nvidia_com_gpu',\n",
       "   'service': 'kube-state-metrics',\n",
       "   'unit': 'integer'},\n",
       "  'values': [[1555956755.694, '8'],\n",
       "   [1555956785.694, '8'],\n",
       "   [1555956815.694, '8'],\n",
       "   [1555956845.694, '8'],\n",
       "   [1555956875.694, '8'],\n",
       "   [1555956905.694, '8'],\n",
       "   [1555956935.694, '8'],\n",
       "   [1555956965.694, '8'],\n",
       "   [1555956995.694, '8'],\n",
       "   [1555957025.694, '8']]}]"
      ]
     },
     "execution_count": 12,
     "metadata": {},
     "output_type": "execute_result"
    }
   ],
   "source": [
    "results"
   ]
  },
  {
   "cell_type": "code",
   "execution_count": 8,
   "metadata": {},
   "outputs": [],
   "source": [
    "# Build a list of all labelnames used.\n",
    "labelnames = set()\n",
    "for result in results:\n",
    "    labelnames.update(result['metric'].keys())\n",
    "\n",
    "# Canonicalize\n",
    "labelnames.discard('__name__')\n",
    "labelnames = sorted(labelnames)"
   ]
  },
  {
   "cell_type": "code",
   "execution_count": 9,
   "metadata": {},
   "outputs": [
    {
     "data": {
      "text/plain": [
       "['endpoint',\n",
       " 'instance',\n",
       " 'job',\n",
       " 'namespace',\n",
       " 'node',\n",
       " 'pod',\n",
       " 'resource',\n",
       " 'service',\n",
       " 'unit']"
      ]
     },
     "execution_count": 9,
     "metadata": {},
     "output_type": "execute_result"
    }
   ],
   "source": [
    "labelnames"
   ]
  },
  {
   "cell_type": "code",
   "execution_count": 11,
   "metadata": {},
   "outputs": [],
   "source": [
    "# Write the samples.\n",
    "with open('result.csv', 'w', newline='') as csvfile:\n",
    "    writer = csv.writer(csvfile)\n",
    "    writer.writerow(['node', 'timestamp', 'values'] + labelnames)\n",
    "    for result in results:\n",
    "        l = [result['metric'].get('__name__', '')] + result['values']\n",
    "        for label in labelnames:\n",
    "            l.append(result['metric'].get(label, ''))\n",
    "        writer.writerow(l)"
   ]
  },
  {
   "cell_type": "code",
   "execution_count": null,
   "metadata": {},
   "outputs": [],
   "source": []
  }
 ],
 "metadata": {
  "kernelspec": {
   "display_name": "Python 3",
   "language": "python",
   "name": "python3"
  },
  "language_info": {
   "codemirror_mode": {
    "name": "ipython",
    "version": 3
   },
   "file_extension": ".py",
   "mimetype": "text/x-python",
   "name": "python",
   "nbconvert_exporter": "python",
   "pygments_lexer": "ipython3",
   "version": "3.6.8"
  }
 },
 "nbformat": 4,
 "nbformat_minor": 2
}
