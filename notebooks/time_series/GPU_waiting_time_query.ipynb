{
 "cells": [
  {
   "cell_type": "code",
   "execution_count": 1,
   "metadata": {},
   "outputs": [],
   "source": [
    "import csv\n",
    "import requests\n",
    "import sys\n",
    "import pandas as pd\n",
    "import matplotlib.pyplot as plt\n",
    "import numpy as np\n",
    "import ast\n",
    "import math"
   ]
  },
  {
   "cell_type": "markdown",
   "metadata": {},
   "source": [
    "### Request Allocatable GPU to calculate waiting time"
   ]
  },
  {
   "cell_type": "code",
   "execution_count": 72,
   "metadata": {},
   "outputs": [],
   "source": [
    "# Request as Apr 29th, 2019. Change the offset days if required later.\n",
    "# Time is [Mar 31st, 2019 18:20:53 GMT - Apr 11th, 2019 21:47:45 GMT]\n",
    "\n",
    "# Three reasons for such time range:\n",
    "# 1. Prometheus halts frequently, it is hard to find a longer continuous time series\n",
    "# 2. New GPU nodes come in periodically\n",
    "# 3. Pandas Dataframe can't handle more columns of time series data.\n",
    "\n",
    "address = \"https://prometheus.nautilus.optiputer.net\"\n",
    "query = 'kube_node_status_allocatable{resource=\"nvidia_com_gpu\"}[10d] offset 18d'\n",
    "response = requests.get('{0}/api/v1/query'.format(address), params={'query': query})\n",
    "results = response.json()['data']['result']"
   ]
  },
  {
   "cell_type": "code",
   "execution_count": 282,
   "metadata": {},
   "outputs": [],
   "source": [
    "# Save all time series\n",
    "with open('AllocGPU_ts.csv', 'w', newline='') as csvfile:\n",
    "    writer = csv.writer(csvfile)\n",
    "    for result in results:\n",
    "        node = result['metric'].get('node')\n",
    "        line = [node]\n",
    "        for value in result['values']:\n",
    "            # print (value)\n",
    "            # import pdb; pdb.set_trace()\n",
    "            line.append(value)\n",
    "        writer.writerow(line)"
   ]
  },
  {
   "cell_type": "code",
   "execution_count": 283,
   "metadata": {},
   "outputs": [],
   "source": [
    "# Save only number of GPUs\n",
    "with open('Allocatable_GPU_number.csv', 'w', newline='') as csvfile:\n",
    "    writer = csv.writer(csvfile)\n",
    "    for result in results:\n",
    "        node = result['metric'].get('node')\n",
    "        line = [node]\n",
    "        for value in result['values']:\n",
    "            # print (value)\n",
    "            # import pdb; pdb.set_trace()\n",
    "            line.append(value[1])\n",
    "        writer.writerow(line)"
   ]
  },
  {
   "cell_type": "code",
   "execution_count": 295,
   "metadata": {},
   "outputs": [
    {
     "name": "stdout",
     "output_type": "stream",
     "text": [
      "The allocatable GPU time series has 46153 time stamps\n"
     ]
    }
   ],
   "source": [
    "dataset = pd.read_csv('./Allocatable_GPU_number.csv', header=None, error_bad_lines=False, engine='python', skiprows=990)\n",
    "# print (\"The allocatable GPU time series has {0} time stamps\".format(dataset.shape[1]))"
   ]
  },
  {
   "cell_type": "code",
   "execution_count": 162,
   "metadata": {},
   "outputs": [],
   "source": [
    "# Average Dataset\n",
    "df_no_node = dataset.drop(0, axis=1)\n",
    "series_mean = df_no_node.mean(axis=0)\n",
    "\n",
    "# Normalize Dataset\n",
    "diff = (series_mean.max() + series_mean.min())/2\n",
    "# print (diff)\n",
    "series_mean_normalized = series_mean - diff\n",
    "smn_8 = np.floor(series_mean_normalized * (2 / series_mean_normalized.max()) + 6)\n",
    "# print (smn_8)"
   ]
  },
  {
   "cell_type": "code",
   "execution_count": 164,
   "metadata": {},
   "outputs": [
    {
     "data": {
      "text/plain": [
       "[<matplotlib.lines.Line2D at 0x1b28f8f28>]"
      ]
     },
     "execution_count": 164,
     "metadata": {},
     "output_type": "execute_result"
    },
    {
     "data": {
      "image/png": "[encoded data removed]",
      "text/plain": [
       "<Figure size 720x360 with 1 Axes>"
      ]
     },
     "metadata": {
      "needs_background": "light"
     },
     "output_type": "display_data"
    }
   ],
   "source": [
    "fig = plt.figure(figsize=[10,5])\n",
    "plt.plot(smn_8)"
   ]
  },
  {
   "cell_type": "code",
   "execution_count": 260,
   "metadata": {},
   "outputs": [],
   "source": [
    "def calculate_waiting_time(series):\n",
    "    \n",
    "    with open('waiting_time.csv', 'w', newline='') as f:\n",
    "        writer = csv.DictWriter(f, fieldnames = range(1,9))\n",
    "        writer.writeheader()\n",
    "        # Because of dropping the node column, index starts at 1\n",
    "        for index in range(1, len(series) + 1):\n",
    "            line_dict = {}\n",
    "\n",
    "            # initialize next_index as current index\n",
    "            next_index = index + 1\n",
    "\n",
    "            for gpu_num in range(1, 9):\n",
    "                if gpu_num <= series[index]:\n",
    "                    line_dict[gpu_num] = 0\n",
    "                else:\n",
    "                    # Searching forward for waiting time\n",
    "                    for following_index in range(next_index, len(series) + 1):\n",
    "                        \n",
    "                        # cache following_index to efficiently search from where left off\n",
    "                        next_index = following_index\n",
    "                        if gpu_num <= series[following_index]:\n",
    "                            line_dict[gpu_num] = following_index - index\n",
    "                            #import pdb; pdb.set_trace();\n",
    "                            break\n",
    "\n",
    "                    if (gpu_num not in line_dict):\n",
    "                        # If gpu_num can't be deploy in this time range, set to rightmost time stamp\n",
    "                        line_dict[gpu_num] = len(series) - index\n",
    "            # import pdb; pdb.set_trace();\n",
    "            writer.writerow(line_dict)"
   ]
  },
  {
   "cell_type": "code",
   "execution_count": 262,
   "metadata": {},
   "outputs": [],
   "source": [
    "calculate_waiting_time(smn_8)"
   ]
  },
  {
   "cell_type": "code",
   "execution_count": 23,
   "metadata": {},
   "outputs": [],
   "source": [
    "wait_df = pd.read_csv('./waiting_time.csv')"
   ]
  },
  {
   "cell_type": "code",
   "execution_count": 4,
   "metadata": {},
   "outputs": [
    {
     "name": "stdout",
     "output_type": "stream",
     "text": [
      "1 GPU is required to wait up to 0.0 minutes\n",
      "2 GPU is required to wait up to 0.0 minutes\n",
      "3 GPU is required to wait up to 0.0 minutes\n",
      "4 GPU is required to wait up to 0.0 minutes\n",
      "5 GPU is required to wait up to 6.0 minutes\n",
      "6 GPU is required to wait up to 16.0 minutes\n",
      "7 GPU is required to wait up to 371.0 minutes\n",
      "8 GPU is required to wait up to 5213.0 minutes\n"
     ]
    }
   ],
   "source": [
    "# Upper bound of waiting time\n",
    "for n in range(6):\n",
    "    # sampling frequency = 60 secs\n",
    "    print (\"{0} GPU is required to wait up to {1} minutes\".format(n + 1, wait_df.iloc[:, n].max() * 60 / 60))\n",
    "for n in range(6, 8):\n",
    "    # sampling frequency = 10 secs\n",
    "    print (\"{0} GPU is required to wait up to {1} minutes\".format(n + 1, round(wait_df.iloc[:, n].max() * 10 / 60)))"
   ]
  },
  {
   "cell_type": "code",
   "execution_count": 37,
   "metadata": {},
   "outputs": [],
   "source": [
    "wait_df = pd.read_csv('./waiting_time.csv')\n",
    "wait_df.iloc[:, 0:6] = np.float64(wait_df.iloc[:, 0:6])\n",
    "wait_df.iloc[:, 6:8] = np.ceil(wait_df.iloc[:, 6:8] * 10)\n",
    "wait_df.tail(100)\n",
    "# with open (\"wait_time_minute.csv\", 'w', newline='') as f:\n",
    "wait_df.to_csv(\"./wait_time_seconds.csv\", index=False)    "
   ]
  },
  {
   "cell_type": "markdown",
   "metadata": {},
   "source": [
    "### We have two candidates here for additional wait time - average / upper bound\n"
   ]
  },
  {
   "cell_type": "code",
   "execution_count": 43,
   "metadata": {},
   "outputs": [
    {
     "name": "stdout",
     "output_type": "stream",
     "text": [
      "GPU 6 Average Waiting time is 3.7564102564102564\n",
      "GPU 6 Std Waiting time is 3.423319181600543\n",
      "GPU 8 Average Waiting time is 2001.112100595135\n",
      "GPU 8 Std Waiting time is 1555.7793056685186\n"
     ]
    }
   ],
   "source": [
    "print (\"GPU 6 Average Waiting time is {0}\".format(wait_df[wait_df['6']!=0].mean()[5]))\n",
    "print (\"GPU 6 Std Waiting time is {0}\".format(wait_df[wait_df['6']!=0].std()[5]))\n",
    "print (\"GPU 8 Average Waiting time is {0}\".format(wait_df.mean()[7]/60))\n",
    "print (\"GPU 8 Std Waiting time is {0}\".format(wait_df.std()[7]/60))"
   ]
  },
  {
   "cell_type": "code",
   "execution_count": 571,
   "metadata": {},
   "outputs": [],
   "source": [
    "def plot_cdf(num, nonzero=False):\n",
    "    if nonzero:\n",
    "        data = wait_df[wait_df[str(num)]!=0][str(num)]\n",
    "    else:\n",
    "        data = wait_df[str(num)]\n",
    "\n",
    "    sample_size = len(data)\n",
    "    mean_data = round(data.mean(), 3)\n",
    "    std_data = round(data.std(), 3)\n",
    "    print (\"=======GPU {}=======\".format(num))\n",
    "    print (\"Mean : {}\".format(mean_data))\n",
    "    print (\"Stdev : {}\".format(std_data))\n",
    "    print (\"==============\")\n",
    "    \n",
    "    # An \"interface\" to matplotlib.axes.Axes.hist() method\n",
    "\n",
    "    _fig, ax = plt.subplots()\n",
    "\n",
    "    _n, _bins, _patches = ax.hist(x=data, color='#0932ba', bins = 100,\n",
    "                                alpha=0.7, rwidth=0.85, histtype=\"step\", cumulative=True, \n",
    "                                label=\"empirical CDF\", density=True)\n",
    "\n",
    "    norm_dist_y = np.random.normal(mean_data, std_data, sample_size)\n",
    "\n",
    "    _n, _bins, _patches = ax.hist(x=norm_dist_y, bins=int(sample_size/2), color='#FF5733',\n",
    "                                alpha=0.7, rwidth=0.85, histtype=\"step\", cumulative=True, \n",
    "                                label=\"artificial CDF\", density=True)\n",
    "\n",
    "    plt.grid(axis='y', alpha=0.75)\n",
    "    plt.xlabel('Wait time (secs)')\n",
    "    plt.ylabel('Probability Density')\n",
    "    ax.legend(loc='upper left')"
   ]
  },
  {
   "cell_type": "code",
   "execution_count": 572,
   "metadata": {},
   "outputs": [
    {
     "name": "stdout",
     "output_type": "stream",
     "text": [
      "=======GPU 6=======\n",
      "Mean : 3.756\n",
      "Stdev : 3.423\n",
      "==============\n",
      "=======GPU 7=======\n",
      "Mean : 788.741\n",
      "Stdev : 650.543\n",
      "==============\n",
      "=======GPU 8=======\n",
      "Mean : 12468.655\n",
      "Stdev : 9204.812\n",
      "==============\n"
     ]
    },
    {
     "data": {
      "image/png": "[encoded data removed]",
      "text/plain": [
       "<Figure size 432x288 with 1 Axes>"
      ]
     },
     "metadata": {
      "needs_background": "light"
     },
     "output_type": "display_data"
    },
    {
     "data": {
      "image/png": "[encoded data removed]",
      "text/plain": [
       "<Figure size 432x288 with 1 Axes>"
      ]
     },
     "metadata": {
      "needs_background": "light"
     },
     "output_type": "display_data"
    },
    {
     "data": {
      "image/png": "[encoded data removed]",
      "text/plain": [
       "<Figure size 432x288 with 1 Axes>"
      ]
     },
     "metadata": {
      "needs_background": "light"
     },
     "output_type": "display_data"
    }
   ],
   "source": [
    "plot_cdf(6, True)\n",
    "plot_cdf(7, True)\n",
    "plot_cdf(8, True)"
   ]
  },
  {
   "cell_type": "code",
   "execution_count": 530,
   "metadata": {},
   "outputs": [],
   "source": [
    "def nCr(n,r):\n",
    "    f = math.factorial\n",
    "    return f(n) / f(r) / f(n-r)"
   ]
  },
  {
   "cell_type": "markdown",
   "metadata": {},
   "source": [
    "  "
   ]
  },
  {
   "cell_type": "code",
   "execution_count": 564,
   "metadata": {},
   "outputs": [
    {
     "data": {
      "text/plain": [
       "3825"
      ]
     },
     "execution_count": 564,
     "metadata": {},
     "output_type": "execute_result"
    }
   ],
   "source": [
    "data = wait_df[wait_df['7']!=0]['7']\n",
    "\n",
    "data_sorted = sorted(data)\n",
    "\n",
    "len(data_sorted)"
   ]
  },
  {
   "cell_type": "code",
   "execution_count": 566,
   "metadata": {},
   "outputs": [],
   "source": [
    "def q_99_boundary(data):\n",
    "    sample_size = len(data)\n",
    "    total = 0\n",
    "    data = sorted(data)\n",
    "    result = []\n",
    "    for i in range(sample_size + 1):\n",
    "        total += nCr(sample_size, sample_size - i)*(0.99**(sample_size - i))*((1-0.99)**i)\n",
    "        if total >= 0.025:\n",
    "            print (\"total : {0}\".format(total))\n",
    "            print (\"U : {0}\".format(i))\n",
    "            print (\"Uth largest number : {0}\".format(data[i]))\n",
    "            result.append(data[i])\n",
    "        if total >= 0.975:\n",
    "            print (\"total : {0}\".format(total))\n",
    "            print (\"L : {0}\".format(i))\n",
    "            print (\"Lth largest number : {0}\".format(data[i]))\n",
    "            result.append(data[i])\n",
    "            break\n",
    "\n",
    "    return result"
   ]
  },
  {
   "cell_type": "code",
   "execution_count": 568,
   "metadata": {},
   "outputs": [
    {
     "name": "stdout",
     "output_type": "stream",
     "text": [
      "total : 0.03506094962838405\n",
      "U : 27\n",
      "Uth largest number : 1\n",
      "total : 0.05140469662537525\n",
      "U : 28\n",
      "Uth largest number : 1\n",
      "total : 0.07301988553083524\n",
      "U : 29\n",
      "Uth largest number : 1\n",
      "total : 0.10064657141808314\n",
      "U : 30\n",
      "Uth largest number : 1\n",
      "total : 0.13480860235392733\n",
      "U : 31\n",
      "Uth largest number : 1\n",
      "total : 0.17572108510979634\n",
      "U : 32\n",
      "Uth largest number : 1\n",
      "total : 0.22322064038773062\n",
      "U : 33\n",
      "Uth largest number : 1\n",
      "total : 0.2767317258345301\n",
      "U : 34\n",
      "Uth largest number : 1\n",
      "total : 0.3352773318745927\n",
      "U : 35\n",
      "Uth largest number : 1\n",
      "total : 0.3975354258397547\n",
      "U : 36\n",
      "Uth largest number : 1\n",
      "total : 0.46193507586268645\n",
      "U : 37\n",
      "Uth largest number : 1\n",
      "total : 0.5267798058698278\n",
      "U : 38\n",
      "Uth largest number : 1\n",
      "total : 0.590381720538837\n",
      "U : 39\n",
      "Uth largest number : 1\n",
      "total : 0.6511890056239049\n",
      "U : 40\n",
      "Uth largest number : 1\n",
      "total : 0.7078915368007914\n",
      "U : 41\n",
      "Uth largest number : 1\n",
      "total : 0.7594938403056829\n",
      "U : 42\n",
      "Uth largest number : 1\n",
      "total : 0.805350432779022\n",
      "U : 43\n",
      "Uth largest number : 1\n",
      "total : 0.8451643980531653\n",
      "U : 44\n",
      "Uth largest number : 2\n",
      "total : 0.8789548812633867\n",
      "U : 45\n",
      "Uth largest number : 2\n",
      "total : 0.9070023179200922\n",
      "U : 46\n",
      "Uth largest number : 2\n",
      "total : 0.9297814417382075\n",
      "U : 47\n",
      "Uth largest number : 2\n",
      "total : 0.9478916121474751\n",
      "U : 48\n",
      "Uth largest number : 2\n",
      "total : 0.9619922333875913\n",
      "U : 49\n",
      "Uth largest number : 2\n",
      "total : 0.9727485860750011\n",
      "U : 50\n",
      "Uth largest number : 2\n",
      "total : 0.9807908184764613\n",
      "U : 51\n",
      "Uth largest number : 2\n",
      "total : 0.9807908184764613\n",
      "L : 51\n",
      "Lth largest number : 2\n"
     ]
    },
    {
     "data": {
      "text/plain": [
       "[1, 1, 1, 1, 1, 1, 1, 1, 1, 1, 1, 1, 1, 1, 1, 1, 1, 2, 2, 2, 2, 2, 2, 2, 2, 2]"
      ]
     },
     "execution_count": 568,
     "metadata": {},
     "output_type": "execute_result"
    }
   ],
   "source": [
    "data = wait_df[wait_df['7']!=0]['7']\n",
    "q_99_boundary(data)"
   ]
  },
  {
   "cell_type": "markdown",
   "metadata": {},
   "source": [
    "#### Without assuming a specific distribution, one can say that if the customer waits \n",
    "#### [Upper bound] days, the probability that his/her request is still pending is <= 0.01 (99 percentile)"
   ]
  },
  {
   "cell_type": "code",
   "execution_count": 515,
   "metadata": {},
   "outputs": [
    {
     "name": "stdout",
     "output_type": "stream",
     "text": [
      "0.006\n",
      "0.208\n"
     ]
    },
    {
     "data": {
      "image/png": "[encoded data removed]",
      "text/plain": [
       "<Figure size 432x288 with 1 Axes>"
      ]
     },
     "metadata": {
      "needs_background": "light"
     },
     "output_type": "display_data"
    }
   ],
   "source": [
    "data = wait_df['6']\n",
    "\n",
    "sample_size = len(data)\n",
    "mean_data = round(data.mean(), 3)\n",
    "std_data = round(data.std(), 3)\n",
    "\n",
    "print (mean_data)\n",
    "print (std_data)\n",
    "\n",
    "# An \"interface\" to matplotlib.axes.Axes.hist() method\n",
    "\n",
    "_fig, ax = plt.subplots()\n",
    "\n",
    "# _n, _bins, _patches = ax.hist(x=data, color='#0504aa', bins = 100,\n",
    "#                             alpha=0.7, rwidth=0.85, histtype=\"bar\", density=True, \n",
    "#                             label=\"PDF\")\n",
    "\n",
    "_n, _bins, _patches = ax.hist(x=data, color='#0932ba', bins = 100,\n",
    "                            alpha=0.7, rwidth=0.85, histtype=\"step\", cumulative=True, \n",
    "                            label=\"empirical CDF\", density=True)\n",
    "\n",
    "norm_dist_y = np.random.normal(mean_data, std_data, sample_size)\n",
    "\n",
    "_n, _bins, _patches = ax.hist(x=norm_dist_y, bins=int(sample_size/2), color='#FF5733',\n",
    "                            alpha=0.7, rwidth=0.85, histtype=\"step\", cumulative=True, \n",
    "                            label=\"artificial CDF\", density=True)\n",
    "\n",
    "plt.grid(axis='y', alpha=0.75)\n",
    "plt.xlabel('Total Duration (secs)')\n",
    "plt.ylabel('Probability Density')\n",
    "ax.legend(loc='upper left')\n",
    "#plt.title('Histogram - Sync Celery, Sync Lambda, Invocation = 100\\n' + metrics, fontsize=10)\n",
    "\n",
    "#maxfreq = n.max()\n",
    "## Set a clean upper y-axis limit.\n",
    "#plt.ylim(ymax=np.ceil(maxfreq / 10) * 10 if maxfreq % 10 else maxfreq + 10)\n",
    "\n",
    "#plt.xlim(0,400)\n",
    "\n",
    "plt.show() "
   ]
  },
  {
   "cell_type": "markdown",
   "metadata": {},
   "source": [
    "### Request GPU request to calculate arrival rate"
   ]
  },
  {
   "cell_type": "code",
   "execution_count": 279,
   "metadata": {
    "scrolled": true
   },
   "outputs": [],
   "source": [
    "request_query = 'kube_pod_container_resource_requests{resource=\"nvidia_com_gpu\"} [10d] offset 18d'\n",
    "request_response = requests.get('{0}/api/v1/query'.format(address), params={'query': request_query})\n",
    "request_results = request_response.json()['data']['result']"
   ]
  },
  {
   "cell_type": "code",
   "execution_count": 291,
   "metadata": {},
   "outputs": [
    {
     "data": {
      "text/plain": [
       "11267"
      ]
     },
     "execution_count": 291,
     "metadata": {},
     "output_type": "execute_result"
    }
   ],
   "source": [
    "len(request_results)"
   ]
  },
  {
   "cell_type": "code",
   "execution_count": 366,
   "metadata": {},
   "outputs": [
    {
     "name": "stdout",
     "output_type": "stream",
     "text": [
      "{1: 7899, 0: 507, 2: 1531, 4: 992, 8: 121, 6: 114, 3: 110}\n",
      "The arrival rate of 0 GPU request is 0.035208333333333335 per minute\n",
      "The arrival rate of 1 GPU request is 0.5485416666666667 per minute\n",
      "The arrival rate of 2 GPU request is 0.10631944444444444 per minute\n",
      "The arrival rate of 3 GPU request is 0.007638888888888889 per minute\n",
      "The arrival rate of 4 GPU request is 0.06888888888888889 per minute\n",
      "The arrival rate of 6 GPU request is 0.007916666666666667 per minute\n",
      "The arrival rate of 8 GPU request is 0.008402777777777778 per minute\n"
     ]
    }
   ],
   "source": [
    "# Calculate arrival rate\n",
    "request_dict = {}\n",
    "for result in request_results:\n",
    "    GPU_num = int(result['values'][0][1])\n",
    "    curr_num = request_dict.setdefault(GPU_num, 1)\n",
    "    request_dict[GPU_num] = curr_num + 1\n",
    "print (request_dict)\n",
    "\n",
    "for n in range(9):\n",
    "    if n in request_dict:\n",
    "        # request per minute\n",
    "        arrival_rate = request_dict[n] / (10 * 24 * 60)\n",
    "        print (\"The arrival rate of {0} GPU request is {1} per minute\".format(n, arrival_rate))"
   ]
  },
  {
   "cell_type": "markdown",
   "metadata": {},
   "source": [
    "### Calculate Container CPU usage seconds as a proxy of duration"
   ]
  },
  {
   "cell_type": "code",
   "execution_count": 328,
   "metadata": {},
   "outputs": [],
   "source": [
    "cpu_usage_query = 'container_cpu_usage_seconds_total[1d] offset 20d'\n",
    "cpu_usage_response = requests.get('{0}/api/v1/query'.format(address), params={'query': cpu_usage_query})\n",
    "cpu_usage_results = cpu_usage_response.json()['data']['result']"
   ]
  },
  {
   "cell_type": "code",
   "execution_count": 336,
   "metadata": {},
   "outputs": [],
   "source": [
    "# Save cpu storage \n",
    "# Count the average duration of pods\n",
    "\n",
    "with open('CPU_Usage_ts.csv', 'w', newline='') as csvfile:\n",
    "    writer = csv.writer(csvfile)\n",
    "    for result in cpu_usage_results:\n",
    "        node = result['metric'].get('pod_name')\n",
    "        line = [node]\n",
    "        for value in result['values']:\n",
    "            # print (value)\n",
    "            # import pdb; pdb.set_trace()\n",
    "            line.append(value)\n",
    "        writer.writerow(line)"
   ]
  },
  {
   "cell_type": "code",
   "execution_count": 339,
   "metadata": {},
   "outputs": [],
   "source": [
    "cpu_usage_df = pd.read_csv(\"./CPU_Usage_ts.csv\", header=None, error_bad_lines=False, engine='python')"
   ]
  },
  {
   "cell_type": "code",
   "execution_count": 340,
   "metadata": {},
   "outputs": [
    {
     "data": {
      "text/html": [
       "<div>\n",
       "<style scoped>\n",
       "    .dataframe tbody tr th:only-of-type {\n",
       "        vertical-align: middle;\n",
       "    }\n",
       "\n",
       "    .dataframe tbody tr th {\n",
       "        vertical-align: top;\n",
       "    }\n",
       "\n",
       "    .dataframe thead th {\n",
       "        text-align: right;\n",
       "    }\n",
       "</style>\n",
       "<table border=\"1\" class=\"dataframe\">\n",
       "  <thead>\n",
       "    <tr style=\"text-align: right;\">\n",
       "      <th></th>\n",
       "      <th>0</th>\n",
       "      <th>1</th>\n",
       "      <th>2</th>\n",
       "      <th>3</th>\n",
       "      <th>4</th>\n",
       "      <th>5</th>\n",
       "      <th>6</th>\n",
       "      <th>7</th>\n",
       "      <th>8</th>\n",
       "      <th>9</th>\n",
       "      <th>...</th>\n",
       "      <th>2871</th>\n",
       "      <th>2872</th>\n",
       "      <th>2873</th>\n",
       "      <th>2874</th>\n",
       "      <th>2875</th>\n",
       "      <th>2876</th>\n",
       "      <th>2877</th>\n",
       "      <th>2878</th>\n",
       "      <th>2879</th>\n",
       "      <th>2880</th>\n",
       "    </tr>\n",
       "  </thead>\n",
       "  <tbody>\n",
       "    <tr>\n",
       "      <th>0</th>\n",
       "      <td>rook-ceph-osd-186-5c68864d99-9wm4c</td>\n",
       "      <td>[1554966289.221, '0.027227608']</td>\n",
       "      <td>[1554966319.221, '0.027227608']</td>\n",
       "      <td>[1554966349.221, '0.027227608']</td>\n",
       "      <td>[1554966379.221, '0.027227608']</td>\n",
       "      <td>[1554966409.221, '0.027227608']</td>\n",
       "      <td>[1554966439.221, '0.027227608']</td>\n",
       "      <td>[1554966469.221, '0.027227608']</td>\n",
       "      <td>[1554966499.221, '0.027227608']</td>\n",
       "      <td>[1554966529.221, '0.027227608']</td>\n",
       "      <td>...</td>\n",
       "      <td>[1555052389.221, '0.027227608']</td>\n",
       "      <td>[1555052419.221, '0.027227608']</td>\n",
       "      <td>[1555052449.221, '0.027227608']</td>\n",
       "      <td>[1555052479.221, '0.027227608']</td>\n",
       "      <td>[1555052509.221, '0.027227608']</td>\n",
       "      <td>[1555052539.221, '0.027227608']</td>\n",
       "      <td>[1555052569.221, '0.027227608']</td>\n",
       "      <td>[1555052599.221, '0.027227608']</td>\n",
       "      <td>[1555052629.221, '0.027227608']</td>\n",
       "      <td>[1555052659.221, '0.027227608']</td>\n",
       "    </tr>\n",
       "    <tr>\n",
       "      <th>1</th>\n",
       "      <td>kube-proxy-jq5k6</td>\n",
       "      <td>[1554966290.215, '0.015732206']</td>\n",
       "      <td>[1554966320.215, '0.015732206']</td>\n",
       "      <td>[1554966350.215, '0.015732206']</td>\n",
       "      <td>[1554966380.215, '0.015732206']</td>\n",
       "      <td>[1554966410.215, '0.015732206']</td>\n",
       "      <td>[1554966440.215, '0.015732206']</td>\n",
       "      <td>[1554966470.215, '0.015732206']</td>\n",
       "      <td>[1554966500.215, '0.015732206']</td>\n",
       "      <td>[1554966530.215, '0.015732206']</td>\n",
       "      <td>...</td>\n",
       "      <td>[1555052390.215, '0.015732206']</td>\n",
       "      <td>[1555052420.215, '0.015732206']</td>\n",
       "      <td>[1555052450.215, '0.015732206']</td>\n",
       "      <td>[1555052480.215, '0.015732206']</td>\n",
       "      <td>[1555052510.215, '0.015732206']</td>\n",
       "      <td>[1555052540.215, '0.015732206']</td>\n",
       "      <td>[1555052570.215, '0.015732206']</td>\n",
       "      <td>[1555052600.215, '0.015732206']</td>\n",
       "      <td>[1555052630.215, '0.015732206']</td>\n",
       "      <td>[1555052660.215, '0.015732206']</td>\n",
       "    </tr>\n",
       "    <tr>\n",
       "      <th>2</th>\n",
       "      <td>ipmi-mon-pz4nq</td>\n",
       "      <td>[1554966272.877, '0.014872137']</td>\n",
       "      <td>[1554966302.877, '0.014872137']</td>\n",
       "      <td>[1554966332.877, '0.014872137']</td>\n",
       "      <td>[1554966362.877, '0.014872137']</td>\n",
       "      <td>[1554966392.877, '0.014872137']</td>\n",
       "      <td>[1554966422.877, '0.014872137']</td>\n",
       "      <td>[1554966452.877, '0.014872137']</td>\n",
       "      <td>[1554966482.877, '0.014872137']</td>\n",
       "      <td>[1554966512.877, '0.014872137']</td>\n",
       "      <td>...</td>\n",
       "      <td>None</td>\n",
       "      <td>None</td>\n",
       "      <td>None</td>\n",
       "      <td>None</td>\n",
       "      <td>None</td>\n",
       "      <td>None</td>\n",
       "      <td>None</td>\n",
       "      <td>None</td>\n",
       "      <td>None</td>\n",
       "      <td>None</td>\n",
       "    </tr>\n",
       "    <tr>\n",
       "      <th>3</th>\n",
       "      <td>ipmi-mon-pz4nq</td>\n",
       "      <td>[1555019372.877, '0.016098408']</td>\n",
       "      <td>[1555019402.877, '0.016098408']</td>\n",
       "      <td>[1555019432.877, '0.016098408']</td>\n",
       "      <td>[1555019462.877, '0.016098408']</td>\n",
       "      <td>[1555019492.877, '0.016098408']</td>\n",
       "      <td>[1555019522.877, '0.016098408']</td>\n",
       "      <td>[1555019552.877, '0.016098408']</td>\n",
       "      <td>[1555019582.877, '0.016098408']</td>\n",
       "      <td>[1555019612.877, '0.016098408']</td>\n",
       "      <td>...</td>\n",
       "      <td>None</td>\n",
       "      <td>None</td>\n",
       "      <td>None</td>\n",
       "      <td>None</td>\n",
       "      <td>None</td>\n",
       "      <td>None</td>\n",
       "      <td>None</td>\n",
       "      <td>None</td>\n",
       "      <td>None</td>\n",
       "      <td>None</td>\n",
       "    </tr>\n",
       "    <tr>\n",
       "      <th>4</th>\n",
       "      <td>rook-ceph-mon-dn-7dc656887-df4tk</td>\n",
       "      <td>[1555052154.477, '0.040796']</td>\n",
       "      <td>[1555052184.477, '0.040796']</td>\n",
       "      <td>[1555052214.477, '0.040796']</td>\n",
       "      <td>[1555052244.477, '0.040796']</td>\n",
       "      <td>[1555052274.477, '0.040796']</td>\n",
       "      <td>[1555052304.477, '0.040796']</td>\n",
       "      <td>[1555052334.477, '0.040796']</td>\n",
       "      <td>[1555052364.477, '0.040796']</td>\n",
       "      <td>[1555052394.477, '0.040796']</td>\n",
       "      <td>...</td>\n",
       "      <td>None</td>\n",
       "      <td>None</td>\n",
       "      <td>None</td>\n",
       "      <td>None</td>\n",
       "      <td>None</td>\n",
       "      <td>None</td>\n",
       "      <td>None</td>\n",
       "      <td>None</td>\n",
       "      <td>None</td>\n",
       "      <td>None</td>\n",
       "    </tr>\n",
       "    <tr>\n",
       "      <th>5</th>\n",
       "      <td>rook-ceph-osd-134-57b7b8c944-w77qf</td>\n",
       "      <td>[1554966290.215, '0.023590133']</td>\n",
       "      <td>[1554966320.215, '0.023590133']</td>\n",
       "      <td>[1554966350.215, '0.023590133']</td>\n",
       "      <td>[1554966380.215, '0.023590133']</td>\n",
       "      <td>[1554966410.215, '0.023590133']</td>\n",
       "      <td>[1554966440.215, '0.023590133']</td>\n",
       "      <td>[1554966470.215, '0.023590133']</td>\n",
       "      <td>[1554966500.215, '0.023590133']</td>\n",
       "      <td>[1554966530.215, '0.023590133']</td>\n",
       "      <td>...</td>\n",
       "      <td>[1555052390.215, '0.023590133']</td>\n",
       "      <td>[1555052420.215, '0.023590133']</td>\n",
       "      <td>[1555052450.215, '0.023590133']</td>\n",
       "      <td>[1555052480.215, '0.023590133']</td>\n",
       "      <td>[1555052510.215, '0.023590133']</td>\n",
       "      <td>[1555052540.215, '0.023590133']</td>\n",
       "      <td>[1555052570.215, '0.023590133']</td>\n",
       "      <td>[1555052600.215, '0.023590133']</td>\n",
       "      <td>[1555052630.215, '0.023590133']</td>\n",
       "      <td>[1555052660.215, '0.023590133']</td>\n",
       "    </tr>\n",
       "    <tr>\n",
       "      <th>6</th>\n",
       "      <td>kube-proxy-vsld6</td>\n",
       "      <td>[1554966283.062, '0.010845992']</td>\n",
       "      <td>[1554966313.062, '0.010845992']</td>\n",
       "      <td>[1554966343.062, '0.010845992']</td>\n",
       "      <td>[1554966373.062, '0.010845992']</td>\n",
       "      <td>[1554966403.062, '0.010845992']</td>\n",
       "      <td>[1554966433.062, '0.010845992']</td>\n",
       "      <td>[1554966463.062, '0.010845992']</td>\n",
       "      <td>[1554966493.062, '0.010845992']</td>\n",
       "      <td>[1554966523.062, '0.010845992']</td>\n",
       "      <td>...</td>\n",
       "      <td>[1555052413.062, '0.010845992']</td>\n",
       "      <td>[1555052443.062, '0.010845992']</td>\n",
       "      <td>[1555052473.062, '0.010845992']</td>\n",
       "      <td>[1555052503.062, '0.010845992']</td>\n",
       "      <td>[1555052533.062, '0.010845992']</td>\n",
       "      <td>[1555052563.062, '0.010845992']</td>\n",
       "      <td>[1555052593.062, '0.010845992']</td>\n",
       "      <td>[1555052623.062, '0.010845992']</td>\n",
       "      <td>[1555052653.062, '0.010845992']</td>\n",
       "      <td>None</td>\n",
       "    </tr>\n",
       "    <tr>\n",
       "      <th>7</th>\n",
       "      <td>rook-ceph-osd-187-7f55b574bb-29mqh</td>\n",
       "      <td>[1554966289.221, '0.02756364']</td>\n",
       "      <td>[1554966319.221, '0.02756364']</td>\n",
       "      <td>[1554966349.221, '0.02756364']</td>\n",
       "      <td>[1554966379.221, '0.02756364']</td>\n",
       "      <td>[1554966409.221, '0.02756364']</td>\n",
       "      <td>[1554966439.221, '0.02756364']</td>\n",
       "      <td>[1554966469.221, '0.02756364']</td>\n",
       "      <td>[1554966499.221, '0.02756364']</td>\n",
       "      <td>[1554966529.221, '0.02756364']</td>\n",
       "      <td>...</td>\n",
       "      <td>[1555052389.221, '0.02756364']</td>\n",
       "      <td>[1555052419.221, '0.02756364']</td>\n",
       "      <td>[1555052449.221, '0.02756364']</td>\n",
       "      <td>[1555052479.221, '0.02756364']</td>\n",
       "      <td>[1555052509.221, '0.02756364']</td>\n",
       "      <td>[1555052539.221, '0.02756364']</td>\n",
       "      <td>[1555052569.221, '0.02756364']</td>\n",
       "      <td>[1555052599.221, '0.02756364']</td>\n",
       "      <td>[1555052629.221, '0.02756364']</td>\n",
       "      <td>[1555052659.221, '0.02756364']</td>\n",
       "    </tr>\n",
       "    <tr>\n",
       "      <th>8</th>\n",
       "      <td>rook-discover-tpqkr</td>\n",
       "      <td>[1554966290.215, '0.025246547']</td>\n",
       "      <td>[1554966320.215, '0.025246547']</td>\n",
       "      <td>[1554966350.215, '0.025246547']</td>\n",
       "      <td>[1554966380.215, '0.025246547']</td>\n",
       "      <td>[1554966410.215, '0.025246547']</td>\n",
       "      <td>[1554966440.215, '0.025246547']</td>\n",
       "      <td>[1554966470.215, '0.025246547']</td>\n",
       "      <td>[1554966500.215, '0.025246547']</td>\n",
       "      <td>[1554966530.215, '0.025246547']</td>\n",
       "      <td>...</td>\n",
       "      <td>[1555052390.215, '0.025246547']</td>\n",
       "      <td>[1555052420.215, '0.025246547']</td>\n",
       "      <td>[1555052450.215, '0.025246547']</td>\n",
       "      <td>[1555052480.215, '0.025246547']</td>\n",
       "      <td>[1555052510.215, '0.025246547']</td>\n",
       "      <td>[1555052540.215, '0.025246547']</td>\n",
       "      <td>[1555052570.215, '0.025246547']</td>\n",
       "      <td>[1555052600.215, '0.025246547']</td>\n",
       "      <td>[1555052630.215, '0.025246547']</td>\n",
       "      <td>[1555052660.215, '0.025246547']</td>\n",
       "    </tr>\n",
       "    <tr>\n",
       "      <th>9</th>\n",
       "      <td>ipmi-mon-xc8t6</td>\n",
       "      <td>[1554966277.491, '0.025753633']</td>\n",
       "      <td>[1554966307.491, '0.025753633']</td>\n",
       "      <td>[1554966337.491, '0.025753633']</td>\n",
       "      <td>[1554966367.491, '0.025753633']</td>\n",
       "      <td>[1554966397.491, '0.025753633']</td>\n",
       "      <td>[1554966427.491, '0.025753633']</td>\n",
       "      <td>[1554966457.491, '0.025753633']</td>\n",
       "      <td>[1554966487.491, '0.025753633']</td>\n",
       "      <td>[1554966517.491, '0.025753633']</td>\n",
       "      <td>...</td>\n",
       "      <td>[1555052377.491, '0.025753633']</td>\n",
       "      <td>[1555052407.491, '0.025753633']</td>\n",
       "      <td>[1555052437.491, '0.025753633']</td>\n",
       "      <td>[1555052467.491, '0.025753633']</td>\n",
       "      <td>[1555052497.491, '0.025753633']</td>\n",
       "      <td>[1555052527.491, '0.025753633']</td>\n",
       "      <td>[1555052557.491, '0.025753633']</td>\n",
       "      <td>[1555052587.491, '0.025753633']</td>\n",
       "      <td>[1555052617.491, '0.025753633']</td>\n",
       "      <td>[1555052647.491, '0.025753633']</td>\n",
       "    </tr>\n",
       "  </tbody>\n",
       "</table>\n",
       "<p>10 rows × 2881 columns</p>\n",
       "</div>"
      ],
      "text/plain": [
       "                                 0                                1     \\\n",
       "0  rook-ceph-osd-186-5c68864d99-9wm4c  [1554966289.221, '0.027227608']   \n",
       "1                    kube-proxy-jq5k6  [1554966290.215, '0.015732206']   \n",
       "2                      ipmi-mon-pz4nq  [1554966272.877, '0.014872137']   \n",
       "3                      ipmi-mon-pz4nq  [1555019372.877, '0.016098408']   \n",
       "4    rook-ceph-mon-dn-7dc656887-df4tk     [1555052154.477, '0.040796']   \n",
       "5  rook-ceph-osd-134-57b7b8c944-w77qf  [1554966290.215, '0.023590133']   \n",
       "6                    kube-proxy-vsld6  [1554966283.062, '0.010845992']   \n",
       "7  rook-ceph-osd-187-7f55b574bb-29mqh   [1554966289.221, '0.02756364']   \n",
       "8                 rook-discover-tpqkr  [1554966290.215, '0.025246547']   \n",
       "9                      ipmi-mon-xc8t6  [1554966277.491, '0.025753633']   \n",
       "\n",
       "                              2                                3     \\\n",
       "0  [1554966319.221, '0.027227608']  [1554966349.221, '0.027227608']   \n",
       "1  [1554966320.215, '0.015732206']  [1554966350.215, '0.015732206']   \n",
       "2  [1554966302.877, '0.014872137']  [1554966332.877, '0.014872137']   \n",
       "3  [1555019402.877, '0.016098408']  [1555019432.877, '0.016098408']   \n",
       "4     [1555052184.477, '0.040796']     [1555052214.477, '0.040796']   \n",
       "5  [1554966320.215, '0.023590133']  [1554966350.215, '0.023590133']   \n",
       "6  [1554966313.062, '0.010845992']  [1554966343.062, '0.010845992']   \n",
       "7   [1554966319.221, '0.02756364']   [1554966349.221, '0.02756364']   \n",
       "8  [1554966320.215, '0.025246547']  [1554966350.215, '0.025246547']   \n",
       "9  [1554966307.491, '0.025753633']  [1554966337.491, '0.025753633']   \n",
       "\n",
       "                              4                                5     \\\n",
       "0  [1554966379.221, '0.027227608']  [1554966409.221, '0.027227608']   \n",
       "1  [1554966380.215, '0.015732206']  [1554966410.215, '0.015732206']   \n",
       "2  [1554966362.877, '0.014872137']  [1554966392.877, '0.014872137']   \n",
       "3  [1555019462.877, '0.016098408']  [1555019492.877, '0.016098408']   \n",
       "4     [1555052244.477, '0.040796']     [1555052274.477, '0.040796']   \n",
       "5  [1554966380.215, '0.023590133']  [1554966410.215, '0.023590133']   \n",
       "6  [1554966373.062, '0.010845992']  [1554966403.062, '0.010845992']   \n",
       "7   [1554966379.221, '0.02756364']   [1554966409.221, '0.02756364']   \n",
       "8  [1554966380.215, '0.025246547']  [1554966410.215, '0.025246547']   \n",
       "9  [1554966367.491, '0.025753633']  [1554966397.491, '0.025753633']   \n",
       "\n",
       "                              6                                7     \\\n",
       "0  [1554966439.221, '0.027227608']  [1554966469.221, '0.027227608']   \n",
       "1  [1554966440.215, '0.015732206']  [1554966470.215, '0.015732206']   \n",
       "2  [1554966422.877, '0.014872137']  [1554966452.877, '0.014872137']   \n",
       "3  [1555019522.877, '0.016098408']  [1555019552.877, '0.016098408']   \n",
       "4     [1555052304.477, '0.040796']     [1555052334.477, '0.040796']   \n",
       "5  [1554966440.215, '0.023590133']  [1554966470.215, '0.023590133']   \n",
       "6  [1554966433.062, '0.010845992']  [1554966463.062, '0.010845992']   \n",
       "7   [1554966439.221, '0.02756364']   [1554966469.221, '0.02756364']   \n",
       "8  [1554966440.215, '0.025246547']  [1554966470.215, '0.025246547']   \n",
       "9  [1554966427.491, '0.025753633']  [1554966457.491, '0.025753633']   \n",
       "\n",
       "                              8                                9     \\\n",
       "0  [1554966499.221, '0.027227608']  [1554966529.221, '0.027227608']   \n",
       "1  [1554966500.215, '0.015732206']  [1554966530.215, '0.015732206']   \n",
       "2  [1554966482.877, '0.014872137']  [1554966512.877, '0.014872137']   \n",
       "3  [1555019582.877, '0.016098408']  [1555019612.877, '0.016098408']   \n",
       "4     [1555052364.477, '0.040796']     [1555052394.477, '0.040796']   \n",
       "5  [1554966500.215, '0.023590133']  [1554966530.215, '0.023590133']   \n",
       "6  [1554966493.062, '0.010845992']  [1554966523.062, '0.010845992']   \n",
       "7   [1554966499.221, '0.02756364']   [1554966529.221, '0.02756364']   \n",
       "8  [1554966500.215, '0.025246547']  [1554966530.215, '0.025246547']   \n",
       "9  [1554966487.491, '0.025753633']  [1554966517.491, '0.025753633']   \n",
       "\n",
       "                ...                                            2871  \\\n",
       "0               ...                 [1555052389.221, '0.027227608']   \n",
       "1               ...                 [1555052390.215, '0.015732206']   \n",
       "2               ...                                            None   \n",
       "3               ...                                            None   \n",
       "4               ...                                            None   \n",
       "5               ...                 [1555052390.215, '0.023590133']   \n",
       "6               ...                 [1555052413.062, '0.010845992']   \n",
       "7               ...                  [1555052389.221, '0.02756364']   \n",
       "8               ...                 [1555052390.215, '0.025246547']   \n",
       "9               ...                 [1555052377.491, '0.025753633']   \n",
       "\n",
       "                              2872                             2873  \\\n",
       "0  [1555052419.221, '0.027227608']  [1555052449.221, '0.027227608']   \n",
       "1  [1555052420.215, '0.015732206']  [1555052450.215, '0.015732206']   \n",
       "2                             None                             None   \n",
       "3                             None                             None   \n",
       "4                             None                             None   \n",
       "5  [1555052420.215, '0.023590133']  [1555052450.215, '0.023590133']   \n",
       "6  [1555052443.062, '0.010845992']  [1555052473.062, '0.010845992']   \n",
       "7   [1555052419.221, '0.02756364']   [1555052449.221, '0.02756364']   \n",
       "8  [1555052420.215, '0.025246547']  [1555052450.215, '0.025246547']   \n",
       "9  [1555052407.491, '0.025753633']  [1555052437.491, '0.025753633']   \n",
       "\n",
       "                              2874                             2875  \\\n",
       "0  [1555052479.221, '0.027227608']  [1555052509.221, '0.027227608']   \n",
       "1  [1555052480.215, '0.015732206']  [1555052510.215, '0.015732206']   \n",
       "2                             None                             None   \n",
       "3                             None                             None   \n",
       "4                             None                             None   \n",
       "5  [1555052480.215, '0.023590133']  [1555052510.215, '0.023590133']   \n",
       "6  [1555052503.062, '0.010845992']  [1555052533.062, '0.010845992']   \n",
       "7   [1555052479.221, '0.02756364']   [1555052509.221, '0.02756364']   \n",
       "8  [1555052480.215, '0.025246547']  [1555052510.215, '0.025246547']   \n",
       "9  [1555052467.491, '0.025753633']  [1555052497.491, '0.025753633']   \n",
       "\n",
       "                              2876                             2877  \\\n",
       "0  [1555052539.221, '0.027227608']  [1555052569.221, '0.027227608']   \n",
       "1  [1555052540.215, '0.015732206']  [1555052570.215, '0.015732206']   \n",
       "2                             None                             None   \n",
       "3                             None                             None   \n",
       "4                             None                             None   \n",
       "5  [1555052540.215, '0.023590133']  [1555052570.215, '0.023590133']   \n",
       "6  [1555052563.062, '0.010845992']  [1555052593.062, '0.010845992']   \n",
       "7   [1555052539.221, '0.02756364']   [1555052569.221, '0.02756364']   \n",
       "8  [1555052540.215, '0.025246547']  [1555052570.215, '0.025246547']   \n",
       "9  [1555052527.491, '0.025753633']  [1555052557.491, '0.025753633']   \n",
       "\n",
       "                              2878                             2879  \\\n",
       "0  [1555052599.221, '0.027227608']  [1555052629.221, '0.027227608']   \n",
       "1  [1555052600.215, '0.015732206']  [1555052630.215, '0.015732206']   \n",
       "2                             None                             None   \n",
       "3                             None                             None   \n",
       "4                             None                             None   \n",
       "5  [1555052600.215, '0.023590133']  [1555052630.215, '0.023590133']   \n",
       "6  [1555052623.062, '0.010845992']  [1555052653.062, '0.010845992']   \n",
       "7   [1555052599.221, '0.02756364']   [1555052629.221, '0.02756364']   \n",
       "8  [1555052600.215, '0.025246547']  [1555052630.215, '0.025246547']   \n",
       "9  [1555052587.491, '0.025753633']  [1555052617.491, '0.025753633']   \n",
       "\n",
       "                              2880  \n",
       "0  [1555052659.221, '0.027227608']  \n",
       "1  [1555052660.215, '0.015732206']  \n",
       "2                             None  \n",
       "3                             None  \n",
       "4                             None  \n",
       "5  [1555052660.215, '0.023590133']  \n",
       "6                             None  \n",
       "7   [1555052659.221, '0.02756364']  \n",
       "8  [1555052660.215, '0.025246547']  \n",
       "9  [1555052647.491, '0.025753633']  \n",
       "\n",
       "[10 rows x 2881 columns]"
      ]
     },
     "execution_count": 340,
     "metadata": {},
     "output_type": "execute_result"
    }
   ],
   "source": [
    "cpu_usage_df.head(10)"
   ]
  },
  {
   "cell_type": "code",
   "execution_count": 374,
   "metadata": {
    "scrolled": true
   },
   "outputs": [
    {
     "name": "stdout",
     "output_type": "stream",
     "text": [
      "28153.6861974\n",
      "26866.2760925\n"
     ]
    }
   ],
   "source": [
    "# Calculate average duration of pod\n",
    "durations = []\n",
    "for index, row in cpu_usage_df.iterrows():\n",
    "    start_ts = ast.literal_eval(row.iloc[1])[0]\n",
    "\n",
    "    # Search for the last timestamp\n",
    "    for ts in reversed(row):\n",
    "        # import pdb; pdb.set_trace();\n",
    "        if ts:\n",
    "            end_ts = ast.literal_eval(ts)[0]\n",
    "            break\n",
    "    # Exclude the pod longer than a day (23.99 hrs)\n",
    "    if end_ts - start_ts != 86370:\n",
    "        durations.append(end_ts - start_ts)\n",
    "\n",
    "average_duration = pd.Series(durations).mean()\n",
    "std_duration = pd.Series(durations).std()\n",
    "print (average_duration)\n",
    "print (std_duration)"
   ]
  },
  {
   "cell_type": "markdown",
   "metadata": {},
   "source": [
    "#### Average Duration: 55415.710287 seconds / 15.39 hours\n",
    "#### Standard Deviation: 35038.4642484 seconds / 9.73 hours\n"
   ]
  },
  {
   "cell_type": "markdown",
   "metadata": {},
   "source": [
    "### M/M/c/inf/inf\n",
    "\n",
    "### P0 = (1 + rho + rho^2 / 2*(1 - rho/c))^(-1)\n",
    "\n",
    "### Lq = (rho^(c+1) / (c-1)!*(c-rho)^2) * P0\n",
    "\n",
    "lambda - request rate\n",
    "\n",
    "miu - Average Processing time\n",
    "\n",
    "rho - Utilization factor = lambda / miu"
   ]
  },
  {
   "cell_type": "markdown",
   "metadata": {},
   "source": [
    "#### Queueing theory is not a good candidate for GPU wait time prediction, because the C servers is hard to decide."
   ]
  },
  {
   "cell_type": "code",
   "execution_count": 573,
   "metadata": {},
   "outputs": [
    {
     "name": "stdout",
     "output_type": "stream",
     "text": [
      "{1: 3.529506820236438e-07, 2: 1.3252935646994997e-08, 3: 6.840701981747619e-11, 4: 5.563747960091978e-09, 6: 7.34725534653555e-11, 8: 8.27725624399987e-11}\n"
     ]
    }
   ],
   "source": [
    "wait_time_dict = {}\n",
    "total_gpu = 327\n",
    "count = 1\n",
    "\n",
    "# Average processing time in minutes\n",
    "ave_proc_time =  55415.710287 / 60 \n",
    "\n",
    "# Standard Deviation in minutes\n",
    "std_proc_time = 35038.4642484 / 60\n",
    "\n",
    "for gpu_num in range(1, 9):\n",
    "    if gpu_num in request_dict:\n",
    "        request_rate = request_dict[gpu_num] / (10 * 24 * 60)\n",
    "        u_factor = request_rate / ave_proc_time\n",
    "\n",
    "        P0 = (1 + u_factor + u_factor**2 / 2 * (1 - u_factor/count))**(-1)\n",
    "        # import pdb; pdb.set_trace();\n",
    "        wait_time_dict[gpu_num] = P0 * (u_factor**(count + 1) / (math.factorial(count - 1) * ((count - u_factor)**2)))\n",
    "        \n",
    "print (wait_time_dict)"
   ]
  },
  {
   "cell_type": "code",
   "execution_count": null,
   "metadata": {},
   "outputs": [],
   "source": []
  }
 ],
 "metadata": {
  "kernelspec": {
   "display_name": "Python 3",
   "language": "python",
   "name": "python3"
  },
  "language_info": {
   "codemirror_mode": {
    "name": "ipython",
    "version": 3
   },
   "file_extension": ".py",
   "mimetype": "text/x-python",
   "name": "python",
   "nbconvert_exporter": "python",
   "pygments_lexer": "ipython3",
   "version": "3.6.8"
  }
 },
 "nbformat": 4,
 "nbformat_minor": 2
}
