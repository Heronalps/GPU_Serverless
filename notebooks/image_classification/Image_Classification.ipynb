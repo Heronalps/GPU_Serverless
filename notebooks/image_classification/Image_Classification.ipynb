{
 "cells": [
  {
   "cell_type": "code",
   "execution_count": 3,
   "metadata": {},
   "outputs": [
    {
     "name": "stderr",
     "output_type": "stream",
     "text": [
      "Using TensorFlow backend.\n"
     ]
    }
   ],
   "source": [
    "from keras.applications.resnet50 import ResNet50, preprocess_input, decode_predictions\n",
    "from keras.applications.nasnet import NASNetMobile\n",
    "from keras.preprocessing import image\n",
    "from keras.models import Sequential, Model\n",
    "from keras.layers import Dense, Activation, Flatten, Dropout, GlobalAveragePooling2D\n",
    "from keras import backend as K\n",
    "from keras.optimizers import SGD, Adam\n",
    "from keras.callbacks import ModelCheckpoint\n",
    "from matplotlib import pyplot as plt\n",
    "from PIL import Image, ImageFile\n",
    "ImageFile.LOAD_TRUNCATED_IMAGES = True\n",
    "import numpy as np"
   ]
  },
  {
   "cell_type": "markdown",
   "metadata": {},
   "source": [
    "### Prepare Dataset"
   ]
  },
  {
   "cell_type": "code",
   "execution_count": 95,
   "metadata": {},
   "outputs": [],
   "source": [
    "TRAIN_DIR = \"../../data/SantaCruzIsland_Labeled_5Class\"\n",
    "VALID_DIR = \"../../data/SantaCruzIsland_Validation_5Class\"\n",
    "BATCH_SIZE = 8\n",
    "NUM_EPOCHS = 10\n",
    "WIDTH = 1920\n",
    "HEIGHT = 1080\n",
    "num_train_images = 100\n",
    "num_valid_images = 10\n",
    "\n",
    "num_birds = 127\n",
    "num_empty = 249\n",
    "num_fox = 11\n",
    "num_humans = 32\n",
    "num_rodents = 251\n",
    "\n",
    "total_num = [num_birds, num_empty, num_fox, num_humans, num_rodents]\n",
    "reciprocal = [1/x for x in total_num]\n",
    "class_weights = [ x / sum(reciprocal) for x in reciprocal]\n",
    "# print (class_weights)\n",
    "\n",
    "# The total size of training dataset\n",
    "totakl_train_size = num_train_images * NUM_EPOCHS"
   ]
  },
  {
   "cell_type": "code",
   "execution_count": 96,
   "metadata": {},
   "outputs": [
    {
     "name": "stdout",
     "output_type": "stream",
     "text": [
      "Found 669 images belonging to 5 classes.\n"
     ]
    }
   ],
   "source": [
    "train_datagen = image.ImageDataGenerator(preprocessing_function=preprocess_input, rotation_range=90, \\\n",
    "                                         horizontal_flip=True, vertical_flip=True)\n",
    "train_generator = train_datagen.flow_from_directory(TRAIN_DIR, target_size=(WIDTH, HEIGHT), batch_size = BATCH_SIZE)"
   ]
  },
  {
   "cell_type": "code",
   "execution_count": 85,
   "metadata": {},
   "outputs": [
    {
     "name": "stdout",
     "output_type": "stream",
     "text": [
      "Found 15 images belonging to 5 classes.\n"
     ]
    }
   ],
   "source": [
    "valid_datagen = image.ImageDataGenerator(preprocessing_function=preprocess_input, rotation_range=90, \n",
    "                                         horizontal_flip=True, vertical_flip=True)\n",
    "valid_generator = valid_datagen.flow_from_directory(VALID_DIR, target_size=(WIDTH, HEIGHT), batch_size = BATCH_SIZE)"
   ]
  },
  {
   "cell_type": "markdown",
   "metadata": {},
   "source": [
    "### Create Model"
   ]
  },
  {
   "cell_type": "code",
   "execution_count": 8,
   "metadata": {
    "scrolled": true
   },
   "outputs": [
    {
     "name": "stdout",
     "output_type": "stream",
     "text": [
      "WARNING:tensorflow:From /home/michael/miniconda3/lib/python3.7/site-packages/tensorflow/python/framework/op_def_library.py:263: colocate_with (from tensorflow.python.framework.ops) is deprecated and will be removed in a future version.\n",
      "Instructions for updating:\n",
      "Colocations handled automatically by placer.\n"
     ]
    },
    {
     "name": "stderr",
     "output_type": "stream",
     "text": [
      "/home/michael/miniconda3/lib/python3.7/site-packages/keras_applications/resnet50.py:265: UserWarning: The output shape of `ResNet50(include_top=False)` has been changed since Keras 2.2.0.\n",
      "  warnings.warn('The output shape of `ResNet50(include_top=False)` '\n"
     ]
    }
   ],
   "source": [
    "resnet50_model = ResNet50(input_shape=(WIDTH, HEIGHT, 3), weights='imagenet', include_top=False)"
   ]
  },
  {
   "cell_type": "code",
   "execution_count": 9,
   "metadata": {},
   "outputs": [],
   "source": [
    "nasnet_mobile = NASNetMobile(include_top=False, weights='imagenet', pooling='max')"
   ]
  },
  {
   "cell_type": "code",
   "execution_count": 10,
   "metadata": {},
   "outputs": [],
   "source": [
    "def build_model(base_model, dropout, fc_layers, num_classes):\n",
    "\n",
    "    # first: train only the top layers (which were randomly initialized)\n",
    "    # i.e. freeze all convolutional InceptionV3 layers\n",
    "    for layer in base_model.layers:\n",
    "        layer.trainable = False\n",
    "    \n",
    "    # add a global spatial average pooling layer\n",
    "    x = base_model.output\n",
    "    x = GlobalAveragePooling2D()(x)\n",
    "\n",
    "    # let's add fully-connected layers\n",
    "    # Every FC layer has a dropout probability\n",
    "    for fc in fc_layers:\n",
    "        x = Dense(fc, activation='relu')(x)\n",
    "        x = Dropout(dropout)(x)\n",
    "\n",
    "    # and a logistic layer -- let's say we have 200 classes\n",
    "    predictions = Dense(num_classes, activation='softmax')(x)\n",
    "    \n",
    "    # this is the model we will train\n",
    "    model = Model(inputs=base_model.input, outputs=predictions)    \n",
    "    \n",
    "    return model"
   ]
  },
  {
   "cell_type": "code",
   "execution_count": 11,
   "metadata": {},
   "outputs": [
    {
     "name": "stdout",
     "output_type": "stream",
     "text": [
      "WARNING:tensorflow:From /home/michael/miniconda3/lib/python3.7/site-packages/keras/backend/tensorflow_backend.py:3445: calling dropout (from tensorflow.python.ops.nn_ops) with keep_prob is deprecated and will be removed in a future version.\n",
      "Instructions for updating:\n",
      "Please use `rate` instead of `keep_prob`. Rate should be set to `rate = 1 - keep_prob`.\n"
     ]
    }
   ],
   "source": [
    "class_list = [\"Birds\", \"Empty\", \"Fox\", \"Humans\", \"Rodents\"]\n",
    "FC_LAYERS = [1024, 1024]\n",
    "dropout = 0.5\n",
    "\n",
    "layered_model = build_model(resnet50_model, dropout=dropout, fc_layers=FC_LAYERS, num_classes=len(class_list))"
   ]
  },
  {
   "cell_type": "markdown",
   "metadata": {},
   "source": [
    "### Train the model"
   ]
  },
  {
   "cell_type": "code",
   "execution_count": 76,
   "metadata": {},
   "outputs": [],
   "source": [
    "def train_model(model, model_name, train_data_gen, valid_data_gen, class_weight):\n",
    "\n",
    "    # create adam optimizer with learning rate\n",
    "    adam = Adam(lr=0.00001)\n",
    "\n",
    "    # compile the model (should be done *after* setting layers to non-trainable)\n",
    "    model.compile(optimizer=adam, loss='categorical_crossentropy', metrics=['accuracy'])\n",
    "    \n",
    "    checkpoint = ModelCheckpoint(\"../checkpoints/{0}_model_weights.h5\".format(model_name), monitor=[\"acc\"], verbose=1, mode='max')\n",
    "    \n",
    "    history = model.fit_generator(generator=train_data_gen, epochs = NUM_EPOCHS, workers=8, \n",
    "                                  steps_per_epoch=num_train_images // BATCH_SIZE, shuffle=True, callbacks=[checkpoint],\n",
    "                                  validation_data=valid_data_gen, validation_steps = num_valid_images // BATCH_SIZE,\n",
    "                                  class_weight = class_weight)\n",
    "\n",
    "    return history\n",
    "    \n",
    "    "
   ]
  },
  {
   "cell_type": "code",
   "execution_count": 13,
   "metadata": {},
   "outputs": [],
   "source": [
    "def plot_training(history):\n",
    "    acc = history.history['acc']\n",
    "    val_acc = history.history['val_acc']\n",
    "    loss = history.history['loss']\n",
    "    val_loss = history.history['val_loss']\n",
    "    epochs = range(len(acc))\n",
    "    \n",
    "    plt.plot(epochs, acc, 'b.')\n",
    "    plt.plot(epochs, val_acc, 'r-')\n",
    "    plt.title('Training and validation accuracy')\n",
    "\n",
    "    plt.figure()\n",
    "    plt.plot(epochs, loss, 'b.')\n",
    "    plt.plot(epochs, val_loss, 'r-')\n",
    "    plt.title('Training and validation loss')\n",
    "    plt.show()\n",
    "    \n",
    "    plt.savefig('training_history.png')\n",
    "    "
   ]
  },
  {
   "cell_type": "code",
   "execution_count": 97,
   "metadata": {
    "scrolled": true
   },
   "outputs": [
    {
     "name": "stdout",
     "output_type": "stream",
     "text": [
      "Epoch 1/10\n",
      "12/12 [==============================] - 49s 4s/step - loss: 0.9230 - acc: 0.5417 - val_loss: 2.9512 - val_acc: 0.1429\n",
      "\n",
      "Epoch 00001: saving model to ../checkpoints/ResNet50_model_weights.h5\n",
      "Epoch 2/10\n",
      "12/12 [==============================] - 12s 960ms/step - loss: 0.9988 - acc: 0.5625 - val_loss: 1.5711 - val_acc: 0.3750\n",
      "\n",
      "Epoch 00002: saving model to ../checkpoints/ResNet50_model_weights.h5\n",
      "Epoch 3/10\n",
      "12/12 [==============================] - 17s 1s/step - loss: 0.9200 - acc: 0.5833 - val_loss: 3.4377 - val_acc: 0.1429\n",
      "\n",
      "Epoch 00003: saving model to ../checkpoints/ResNet50_model_weights.h5\n",
      "Epoch 4/10\n",
      "12/12 [==============================] - 19s 2s/step - loss: 0.9083 - acc: 0.5417 - val_loss: 2.6099 - val_acc: 0.2500\n",
      "\n",
      "Epoch 00004: saving model to ../checkpoints/ResNet50_model_weights.h5\n",
      "Epoch 5/10\n",
      "12/12 [==============================] - 17s 1s/step - loss: 0.8327 - acc: 0.6354 - val_loss: 2.2697 - val_acc: 0.1429\n",
      "\n",
      "Epoch 00005: saving model to ../checkpoints/ResNet50_model_weights.h5\n",
      "Epoch 6/10\n",
      "12/12 [==============================] - 19s 2s/step - loss: 0.9101 - acc: 0.5417 - val_loss: 3.0874 - val_acc: 0.1250\n",
      "\n",
      "Epoch 00006: saving model to ../checkpoints/ResNet50_model_weights.h5\n",
      "Epoch 7/10\n",
      "12/12 [==============================] - 18s 1s/step - loss: 0.9134 - acc: 0.5639 - val_loss: 1.8182 - val_acc: 0.4286\n",
      "\n",
      "Epoch 00007: saving model to ../checkpoints/ResNet50_model_weights.h5\n",
      "Epoch 8/10\n",
      "12/12 [==============================] - 18s 1s/step - loss: 0.8969 - acc: 0.5729 - val_loss: 2.5473 - val_acc: 0.1250\n",
      "\n",
      "Epoch 00008: saving model to ../checkpoints/ResNet50_model_weights.h5\n",
      "Epoch 9/10\n",
      "12/12 [==============================] - 16s 1s/step - loss: 0.9966 - acc: 0.6042 - val_loss: 2.7934 - val_acc: 0.1429\n",
      "\n",
      "Epoch 00009: saving model to ../checkpoints/ResNet50_model_weights.h5\n",
      "Epoch 10/10\n",
      "12/12 [==============================] - 20s 2s/step - loss: 0.8773 - acc: 0.6042 - val_loss: 2.5624 - val_acc: 0.3750\n",
      "\n",
      "Epoch 00010: saving model to ../checkpoints/ResNet50_model_weights.h5\n"
     ]
    }
   ],
   "source": [
    "history = train_model(layered_model, \"ResNet50\", train_generator, valid_generator, class_weights)\n"
   ]
  },
  {
   "cell_type": "code",
   "execution_count": 89,
   "metadata": {},
   "outputs": [
    {
     "data": {
      "image/png": "[encoded data removed]",
      "text/plain": [
       "<Figure size 432x288 with 1 Axes>"
      ]
     },
     "metadata": {
      "needs_background": "light"
     },
     "output_type": "display_data"
    },
    {
     "data": {
      "image/png": "[encoded data removed]",
      "text/plain": [
       "<Figure size 432x288 with 1 Axes>"
      ]
     },
     "metadata": {
      "needs_background": "light"
     },
     "output_type": "display_data"
    },
    {
     "data": {
      "text/plain": [
       "<Figure size 432x288 with 0 Axes>"
      ]
     },
     "metadata": {},
     "output_type": "display_data"
    }
   ],
   "source": [
    "plot_training(history)"
   ]
  },
  {
   "cell_type": "markdown",
   "metadata": {},
   "source": [
    "### Make inference"
   ]
  },
  {
   "cell_type": "code",
   "execution_count": 93,
   "metadata": {},
   "outputs": [],
   "source": [
    "img = image.load_img(path=\"../../data/SantaCruzIsland_Labeled_5Class/Birds/IMG_0438.JPG\", target_size=(1920, 1080))\n",
    "x = image.img_to_array(img)\n",
    "x = np.expand_dims(x, axis=0)\n",
    "x = preprocess_input(x)"
   ]
  },
  {
   "cell_type": "code",
   "execution_count": 94,
   "metadata": {},
   "outputs": [
    {
     "name": "stdout",
     "output_type": "stream",
     "text": [
      "Predictde : Rodents Probability : 0.4841832220554352\n"
     ]
    }
   ],
   "source": [
    "layered_model.load_weights(\"../checkpoints/{0}_model_weights.h5\".format(\"ResNet50\"))\n",
    "y_prob = layered_model.predict(x)\n",
    "index = y_prob.argmax()\n",
    "print (\"Predictde : {0}\".format(class_list[index]) + \" Probability : {0}\".format(y_prob[0][index]))"
   ]
  },
  {
   "cell_type": "code",
   "execution_count": null,
   "metadata": {},
   "outputs": [],
   "source": []
  }
 ],
 "metadata": {
  "kernelspec": {
   "display_name": "Python 3",
   "language": "python",
   "name": "python3"
  }
 },
 "nbformat": 4,
 "nbformat_minor": 2
}
