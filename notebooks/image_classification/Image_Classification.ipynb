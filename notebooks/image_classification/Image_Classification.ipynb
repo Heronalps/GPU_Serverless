{
 "cells": [
  {
   "cell_type": "code",
   "execution_count": 18,
   "metadata": {},
   "outputs": [],
   "source": [
    "from keras.applications.resnet50 import ResNet50, preprocess_input\n",
    "from keras.applications.nasnet import NASNetMobile\n",
    "from keras.preprocessing import image\n",
    "from keras.models import Sequential, Model\n",
    "from keras.layers import Dense, Activation, Flatten, Dropout, GlobalAveragePooling2D\n",
    "from keras import backend as K\n",
    "from keras.optimizers import SGD, Adam\n",
    "from keras.callbacks import ModelCheckpoint\n",
    "from matplotlib import pyplot as plt\n",
    "from PIL import Image, ImageFile\n",
    "ImageFile.LOAD_TRUNCATED_IMAGES = True"
   ]
  },
  {
   "cell_type": "markdown",
   "metadata": {},
   "source": [
    "### Prepare Dataset"
   ]
  },
  {
   "cell_type": "code",
   "execution_count": 37,
   "metadata": {},
   "outputs": [],
   "source": [
    "TRAIN_DIR = \"../../data/SantaCruzIsland_Labeled_5Class\"\n",
    "BATCH_SIZE = 8\n",
    "NUM_EPOCHS = 10\n",
    "WIDTH = 1920\n",
    "HEIGHT = 1080\n",
    "num_train_images = 100\n",
    "\n",
    "# The total size of training dataset\n",
    "totakl_train_size = num_train_images * NUM_EPOCHS"
   ]
  },
  {
   "cell_type": "code",
   "execution_count": 4,
   "metadata": {},
   "outputs": [],
   "source": [
    "train_datagen = image.ImageDataGenerator(preprocessing_function=preprocess_input, rotation_range=90, \\\n",
    "                                         horizontal_flip=True, vertical_flip=True)"
   ]
  },
  {
   "cell_type": "code",
   "execution_count": 5,
   "metadata": {},
   "outputs": [
    {
     "name": "stdout",
     "output_type": "stream",
     "text": [
      "Found 1554 images belonging to 5 classes.\n"
     ]
    }
   ],
   "source": [
    "train_generator = train_datagen.flow_from_directory(TRAIN_DIR, target_size=(WIDTH, HEIGHT), batch_size = BATCH_SIZE)"
   ]
  },
  {
   "cell_type": "markdown",
   "metadata": {},
   "source": [
    "### Create Model"
   ]
  },
  {
   "cell_type": "code",
   "execution_count": 6,
   "metadata": {
    "scrolled": true
   },
   "outputs": [
    {
     "name": "stdout",
     "output_type": "stream",
     "text": [
      "WARNING:tensorflow:From /home/michael/miniconda3/lib/python3.7/site-packages/tensorflow/python/framework/op_def_library.py:263: colocate_with (from tensorflow.python.framework.ops) is deprecated and will be removed in a future version.\n",
      "Instructions for updating:\n",
      "Colocations handled automatically by placer.\n"
     ]
    },
    {
     "name": "stderr",
     "output_type": "stream",
     "text": [
      "/home/michael/miniconda3/lib/python3.7/site-packages/keras_applications/resnet50.py:265: UserWarning: The output shape of `ResNet50(include_top=False)` has been changed since Keras 2.2.0.\n",
      "  warnings.warn('The output shape of `ResNet50(include_top=False)` '\n"
     ]
    }
   ],
   "source": [
    "resnet50_model = ResNet50(input_shape=(WIDTH, HEIGHT, 3), weights='imagenet', include_top=False)"
   ]
  },
  {
   "cell_type": "code",
   "execution_count": 7,
   "metadata": {},
   "outputs": [],
   "source": [
    "nasnet_mobile = NASNetMobile(include_top=False, weights='imagenet', pooling='max')"
   ]
  },
  {
   "cell_type": "code",
   "execution_count": 8,
   "metadata": {},
   "outputs": [],
   "source": [
    "def build_model(base_model, dropout, fc_layers, num_classes):\n",
    "\n",
    "    # first: train only the top layers (which were randomly initialized)\n",
    "    # i.e. freeze all convolutional InceptionV3 layers\n",
    "    for layer in base_model.layers:\n",
    "        layer.trainable = False\n",
    "    \n",
    "    # add a global spatial average pooling layer\n",
    "    x = base_model.output\n",
    "    x = GlobalAveragePooling2D()(x)\n",
    "\n",
    "    # let's add fully-connected layers\n",
    "    # Every FC layer has a dropout probability\n",
    "    for fc in fc_layers:\n",
    "        x = Dense(fc, activation='relu')(x)\n",
    "        x = Dropout(dropout)(x)\n",
    "\n",
    "    # and a logistic layer -- let's say we have 200 classes\n",
    "    predictions = Dense(num_classes, activation='softmax')(x)\n",
    "    \n",
    "    # this is the model we will train\n",
    "    model = Model(inputs=base_model.input, outputs=predictions)    \n",
    "    \n",
    "    return model"
   ]
  },
  {
   "cell_type": "code",
   "execution_count": 9,
   "metadata": {},
   "outputs": [
    {
     "name": "stdout",
     "output_type": "stream",
     "text": [
      "WARNING:tensorflow:From /home/michael/miniconda3/lib/python3.7/site-packages/keras/backend/tensorflow_backend.py:3445: calling dropout (from tensorflow.python.ops.nn_ops) with keep_prob is deprecated and will be removed in a future version.\n",
      "Instructions for updating:\n",
      "Please use `rate` instead of `keep_prob`. Rate should be set to `rate = 1 - keep_prob`.\n"
     ]
    }
   ],
   "source": [
    "class_list = [\"Birds\", \"Empty\", \"Fox\", \"Humans\", \"Rodents\"]\n",
    "FC_LAYERS = [1024, 1024]\n",
    "dropout = 0.5\n",
    "\n",
    "layered_model = build_model(resnet50_model, dropout=dropout, fc_layers=FC_LAYERS, num_classes=len(class_list))"
   ]
  },
  {
   "cell_type": "markdown",
   "metadata": {},
   "source": [
    "### Train the model"
   ]
  },
  {
   "cell_type": "code",
   "execution_count": 35,
   "metadata": {},
   "outputs": [],
   "source": [
    "def train_model(model, model_name, data_generator):\n",
    "\n",
    "    # create adam optimizer with learning rate\n",
    "    adam = Adam(lr=0.00001)\n",
    "\n",
    "    # compile the model (should be done *after* setting layers to non-trainable)\n",
    "    model.compile(optimizer=adam, loss='categorical_crossentropy', metrics=['accuracy'])\n",
    "    \n",
    "    checkpoint = ModelCheckpoint(\"../checkpoints/{0}_model_weights.h5\".format(model_name), monitor=[\"acc\"], verbose=1, mode='max')\n",
    "    \n",
    "    history = model.fit_generator(data_generator, epochs = NUM_EPOCHS, workers=8, \n",
    "                                  steps_per_epoch=num_train_images // BATCH_SIZE, \n",
    "                                  shuffle=True, callbacks=[checkpoint])\n",
    "\n",
    "    return history\n",
    "    \n",
    "    "
   ]
  },
  {
   "cell_type": "code",
   "execution_count": 11,
   "metadata": {},
   "outputs": [],
   "source": [
    "def plot_training(history):\n",
    "    acc = history.history['acc']\n",
    "    val_acc = history.history['val_acc']\n",
    "    loss = history.history['loss']\n",
    "    val_loss = history.history['val_loss']\n",
    "    epochs = range(len(acc))\n",
    "    \n",
    "    plt.plot(epochs, acc, 'r.')\n",
    "    plt.plot(epochs, val_acc, 'r')\n",
    "    plt.title('Training and validation accuracy')\n",
    "\n",
    "    plt.figure()\n",
    "    plt.plot(epochs, loss, 'r.')\n",
    "    plt.plot(epochs, val_loss, 'r')\n",
    "    plt.title('Training and validation loss')\n",
    "    plt.show()\n",
    "    \n",
    "    plt.savefig('training_history.png')\n",
    "    "
   ]
  },
  {
   "cell_type": "code",
   "execution_count": 38,
   "metadata": {},
   "outputs": [
    {
     "name": "stdout",
     "output_type": "stream",
     "text": [
      "Epoch 1/10\n",
      "12/12 [==============================] - 34s 3s/step - loss: 0.4672 - acc: 0.8125\n",
      "\n",
      "Epoch 00001: saving model to ../checkpoints/ResNet50_model_weights.h5\n",
      "Epoch 2/10\n",
      "12/12 [==============================] - 14s 1s/step - loss: 0.6488 - acc: 0.7188\n",
      "\n",
      "Epoch 00002: saving model to ../checkpoints/ResNet50_model_weights.h5\n",
      "Epoch 3/10\n",
      "12/12 [==============================] - 17s 1s/step - loss: 0.6025 - acc: 0.7396\n",
      "\n",
      "Epoch 00003: saving model to ../checkpoints/ResNet50_model_weights.h5\n",
      "Epoch 4/10\n",
      "12/12 [==============================] - 20s 2s/step - loss: 0.7294 - acc: 0.7188\n",
      "\n",
      "Epoch 00004: saving model to ../checkpoints/ResNet50_model_weights.h5\n",
      "Epoch 5/10\n",
      "12/12 [==============================] - 17s 1s/step - loss: 0.6787 - acc: 0.7083\n",
      "\n",
      "Epoch 00005: saving model to ../checkpoints/ResNet50_model_weights.h5\n",
      "Epoch 6/10\n",
      "12/12 [==============================] - 21s 2s/step - loss: 0.6555 - acc: 0.7188\n",
      "\n",
      "Epoch 00006: saving model to ../checkpoints/ResNet50_model_weights.h5\n",
      "Epoch 7/10\n",
      "12/12 [==============================] - 16s 1s/step - loss: 0.5658 - acc: 0.7500\n",
      "\n",
      "Epoch 00007: saving model to ../checkpoints/ResNet50_model_weights.h5\n",
      "Epoch 8/10\n",
      "12/12 [==============================] - 22s 2s/step - loss: 0.7299 - acc: 0.7083\n",
      "\n",
      "Epoch 00008: saving model to ../checkpoints/ResNet50_model_weights.h5\n",
      "Epoch 9/10\n",
      "12/12 [==============================] - 15s 1s/step - loss: 0.6291 - acc: 0.6771\n",
      "\n",
      "Epoch 00009: saving model to ../checkpoints/ResNet50_model_weights.h5\n",
      "Epoch 10/10\n",
      "12/12 [==============================] - 23s 2s/step - loss: 0.5554 - acc: 0.7292\n",
      "\n",
      "Epoch 00010: saving model to ../checkpoints/ResNet50_model_weights.h5\n"
     ]
    }
   ],
   "source": [
    "history = train_model(layered_model, \"ResNet50\", train_generator)"
   ]
  },
  {
   "cell_type": "code",
   "execution_count": 39,
   "metadata": {},
   "outputs": [
    {
     "data": {
      "text/plain": [
       "{'loss': [0.46720914045969647,\n",
       "  0.6487811456123987,\n",
       "  0.6025203764438629,\n",
       "  0.7293557077646255,\n",
       "  0.6786509106556574,\n",
       "  0.6554749086499214,\n",
       "  0.5657738695542017,\n",
       "  0.729920523862044,\n",
       "  0.6290730039278666,\n",
       "  0.5553552731871605],\n",
       " 'acc': [0.8125,\n",
       "  0.71875,\n",
       "  0.7395833333333334,\n",
       "  0.71875,\n",
       "  0.7083333333333334,\n",
       "  0.71875,\n",
       "  0.75,\n",
       "  0.7083333333333334,\n",
       "  0.6770833333333334,\n",
       "  0.7291666666666666]}"
      ]
     },
     "execution_count": 39,
     "metadata": {},
     "output_type": "execute_result"
    }
   ],
   "source": [
    "history.history\n"
   ]
  },
  {
   "cell_type": "code",
   "execution_count": null,
   "metadata": {},
   "outputs": [],
   "source": []
  }
 ],
 "metadata": {
  "kernelspec": {
   "display_name": "Python 3",
   "language": "python",
   "name": "python3"
  }
 },
 "nbformat": 4,
 "nbformat_minor": 2
}
